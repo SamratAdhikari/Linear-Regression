{
 "cells": [
  {
   "cell_type": "markdown",
   "id": "361f433d",
   "metadata": {},
   "source": [
    "# <center>Salary Prediction</center>"
   ]
  },
  {
   "cell_type": "markdown",
   "id": "d770760d",
   "metadata": {},
   "source": [
    "## Modules"
   ]
  },
  {
   "cell_type": "code",
   "execution_count": 1,
   "id": "8b56b211",
   "metadata": {},
   "outputs": [],
   "source": [
    "import numpy as np\n",
    "import pandas as pd\n",
    "import matplotlib.pyplot as plt\n",
    "import seaborn as sns\n",
    "from sklearn.metrics import r2_score, mean_squared_error as mse\n",
    "from sklearn.model_selection import train_test_split as tts\n",
    "\n",
    "import warnings\n",
    "warnings.filterwarnings(\"ignore\")"
   ]
  },
  {
   "cell_type": "code",
   "execution_count": 2,
   "id": "89a30630",
   "metadata": {
    "scrolled": true
   },
   "outputs": [
    {
     "data": {
      "text/html": [
       "<div>\n",
       "<style scoped>\n",
       "    .dataframe tbody tr th:only-of-type {\n",
       "        vertical-align: middle;\n",
       "    }\n",
       "\n",
       "    .dataframe tbody tr th {\n",
       "        vertical-align: top;\n",
       "    }\n",
       "\n",
       "    .dataframe thead th {\n",
       "        text-align: right;\n",
       "    }\n",
       "</style>\n",
       "<table border=\"1\" class=\"dataframe\">\n",
       "  <thead>\n",
       "    <tr style=\"text-align: right;\">\n",
       "      <th></th>\n",
       "      <th>YearsExperience</th>\n",
       "      <th>Salary</th>\n",
       "    </tr>\n",
       "  </thead>\n",
       "  <tbody>\n",
       "    <tr>\n",
       "      <th>0</th>\n",
       "      <td>1.2</td>\n",
       "      <td>39450</td>\n",
       "    </tr>\n",
       "    <tr>\n",
       "      <th>1</th>\n",
       "      <td>1.4</td>\n",
       "      <td>46200</td>\n",
       "    </tr>\n",
       "    <tr>\n",
       "      <th>2</th>\n",
       "      <td>1.5</td>\n",
       "      <td>37731</td>\n",
       "    </tr>\n",
       "    <tr>\n",
       "      <th>3</th>\n",
       "      <td>2.0</td>\n",
       "      <td>43525</td>\n",
       "    </tr>\n",
       "    <tr>\n",
       "      <th>4</th>\n",
       "      <td>2.2</td>\n",
       "      <td>39891</td>\n",
       "    </tr>\n",
       "  </tbody>\n",
       "</table>\n",
       "</div>"
      ],
      "text/plain": [
       "   YearsExperience  Salary\n",
       "0              1.2   39450\n",
       "1              1.4   46200\n",
       "2              1.5   37731\n",
       "3              2.0   43525\n",
       "4              2.2   39891"
      ]
     },
     "execution_count": 2,
     "metadata": {},
     "output_type": "execute_result"
    }
   ],
   "source": [
    "df = pd.read_csv(\"salary data.csv\")\n",
    "df.head()"
   ]
  },
  {
   "cell_type": "code",
   "execution_count": 3,
   "id": "7967ac5e",
   "metadata": {},
   "outputs": [
    {
     "data": {
      "text/plain": [
       "YearsExperience    0\n",
       "Salary             0\n",
       "dtype: int64"
      ]
     },
     "execution_count": 3,
     "metadata": {},
     "output_type": "execute_result"
    }
   ],
   "source": [
    "df.isnull().sum()"
   ]
  },
  {
   "cell_type": "code",
   "execution_count": 4,
   "id": "9d860ae4",
   "metadata": {},
   "outputs": [
    {
     "data": {
      "text/plain": [
       "(30, 2)"
      ]
     },
     "execution_count": 4,
     "metadata": {},
     "output_type": "execute_result"
    }
   ],
   "source": [
    "df.shape"
   ]
  },
  {
   "cell_type": "markdown",
   "id": "4b810928",
   "metadata": {},
   "source": [
    "#### Defining dependent and independent variables"
   ]
  },
  {
   "cell_type": "code",
   "execution_count": 5,
   "id": "06ff5282",
   "metadata": {},
   "outputs": [],
   "source": [
    "X = df['YearsExperience']\n",
    "y = df['Salary']"
   ]
  },
  {
   "cell_type": "markdown",
   "id": "94a8d3e2",
   "metadata": {},
   "source": [
    "#### Spliting the dataframe for Testing (10%) and for Training (90%)"
   ]
  },
  {
   "cell_type": "code",
   "execution_count": 6,
   "id": "3c3a5b2c",
   "metadata": {},
   "outputs": [
    {
     "name": "stdout",
     "output_type": "stream",
     "text": [
      "(27,) (3,)\n"
     ]
    }
   ],
   "source": [
    "X_train, X_test, y_train, y_test = tts(X, y, test_size=0.1, random_state=42)\n",
    "\n",
    "print(X_train.shape, X_test.shape)"
   ]
  },
  {
   "cell_type": "markdown",
   "id": "46da654d",
   "metadata": {},
   "source": [
    "### Simple Linear Regression using User Defined Fucnction"
   ]
  },
  {
   "cell_type": "code",
   "execution_count": 7,
   "id": "c8c6cd81",
   "metadata": {},
   "outputs": [],
   "source": [
    "# y = mx + c\n",
    "def coef_estimate(X, y):\n",
    "    n = np.size(X)\n",
    "    \n",
    "    X_mean = np.mean(X)\n",
    "    y_mean = np.mean(y)\n",
    "    \n",
    "    # formula\n",
    "    SS_xy = np.sum(y*X) - (n * y_mean * X_mean)\n",
    "    SS_xx = np.sum(X*X) - (n * X_mean * X_mean)\n",
    "    \n",
    "    m = SS_xy / SS_xx\n",
    "    \n",
    "    c = y_mean - m*X_mean\n",
    "    \n",
    "    return m, c"
   ]
  },
  {
   "cell_type": "code",
   "execution_count": 8,
   "id": "9f5fa639",
   "metadata": {},
   "outputs": [
    {
     "data": {
      "text/plain": [
       "(9409.439082376412, 25839.066282321088)"
      ]
     },
     "execution_count": 8,
     "metadata": {},
     "output_type": "execute_result"
    }
   ],
   "source": [
    "coef_estimate(X_train, y_train)"
   ]
  },
  {
   "cell_type": "markdown",
   "id": "03f3f492",
   "metadata": {},
   "source": [
    " m = 9409.43  \n",
    " c = 25839.066"
   ]
  },
  {
   "cell_type": "code",
   "execution_count": 9,
   "id": "5ff80281",
   "metadata": {},
   "outputs": [],
   "source": [
    "m, c = coef_estimate(X_train, y_train)"
   ]
  },
  {
   "cell_type": "code",
   "execution_count": 10,
   "id": "64b4e986",
   "metadata": {},
   "outputs": [],
   "source": [
    "# y = mx + c\n",
    "y_pred = m*X_test + c"
   ]
  },
  {
   "cell_type": "markdown",
   "id": "15f9544d",
   "metadata": {},
   "source": [
    "### Evaluation"
   ]
  },
  {
   "cell_type": "code",
   "execution_count": 11,
   "id": "7377b933",
   "metadata": {},
   "outputs": [
    {
     "data": {
      "text/plain": [
       "0.8936100776818983"
      ]
     },
     "execution_count": 11,
     "metadata": {},
     "output_type": "execute_result"
    }
   ],
   "source": [
    "r2_score(y_test, y_pred)"
   ]
  },
  {
   "cell_type": "markdown",
   "id": "f27d2646",
   "metadata": {},
   "source": [
    "The feature (predicator) 'YearsExperience' can explain 90% of variance in the dataset."
   ]
  },
  {
   "cell_type": "code",
   "execution_count": 12,
   "id": "0feac2e8",
   "metadata": {},
   "outputs": [
    {
     "data": {
      "text/plain": [
       "48509442.755734764"
      ]
     },
     "execution_count": 12,
     "metadata": {},
     "output_type": "execute_result"
    }
   ],
   "source": [
    "mse(y_test, y_pred)"
   ]
  },
  {
   "cell_type": "markdown",
   "id": "d7325d96",
   "metadata": {},
   "source": [
    "The squared difference (error) between actual values and the regression line (predicted values) in average is 48509442.75."
   ]
  }
 ],
 "metadata": {
  "kernelspec": {
   "display_name": "Python 3 (ipykernel)",
   "language": "python",
   "name": "python3"
  },
  "language_info": {
   "codemirror_mode": {
    "name": "ipython",
    "version": 3
   },
   "file_extension": ".py",
   "mimetype": "text/x-python",
   "name": "python",
   "nbconvert_exporter": "python",
   "pygments_lexer": "ipython3",
   "version": "3.11.3"
  }
 },
 "nbformat": 4,
 "nbformat_minor": 5
}
