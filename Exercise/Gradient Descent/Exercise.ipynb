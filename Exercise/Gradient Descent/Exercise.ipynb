{
 "cells": [
  {
   "cell_type": "markdown",
   "id": "d7c47bc9",
   "metadata": {},
   "source": [
    "# <center>`Gradient Descent Exercise`</center>"
   ]
  },
  {
   "cell_type": "code",
   "execution_count": 2,
   "id": "b78ac779",
   "metadata": {},
   "outputs": [],
   "source": [
    "import numpy as np\n",
    "import pandas as pd\n",
    "import matplotlib.pyplot as plt\n",
    "import seaborn as sns\n",
    "import random\n",
    "import math\n",
    "\n",
    "import warnings\n",
    "warnings.filterwarnings(\"ignore\")"
   ]
  },
  {
   "cell_type": "code",
   "execution_count": 3,
   "id": "5fbad958",
   "metadata": {},
   "outputs": [
    {
     "data": {
      "text/html": [
       "<div>\n",
       "<style scoped>\n",
       "    .dataframe tbody tr th:only-of-type {\n",
       "        vertical-align: middle;\n",
       "    }\n",
       "\n",
       "    .dataframe tbody tr th {\n",
       "        vertical-align: top;\n",
       "    }\n",
       "\n",
       "    .dataframe thead th {\n",
       "        text-align: right;\n",
       "    }\n",
       "</style>\n",
       "<table border=\"1\" class=\"dataframe\">\n",
       "  <thead>\n",
       "    <tr style=\"text-align: right;\">\n",
       "      <th></th>\n",
       "      <th>Unnamed: 0</th>\n",
       "      <th>TV</th>\n",
       "      <th>radio</th>\n",
       "      <th>newspaper</th>\n",
       "      <th>sales</th>\n",
       "    </tr>\n",
       "  </thead>\n",
       "  <tbody>\n",
       "    <tr>\n",
       "      <th>0</th>\n",
       "      <td>1</td>\n",
       "      <td>230.1</td>\n",
       "      <td>37.8</td>\n",
       "      <td>69.2</td>\n",
       "      <td>22.1</td>\n",
       "    </tr>\n",
       "    <tr>\n",
       "      <th>1</th>\n",
       "      <td>2</td>\n",
       "      <td>44.5</td>\n",
       "      <td>39.3</td>\n",
       "      <td>45.1</td>\n",
       "      <td>10.4</td>\n",
       "    </tr>\n",
       "    <tr>\n",
       "      <th>2</th>\n",
       "      <td>3</td>\n",
       "      <td>17.2</td>\n",
       "      <td>45.9</td>\n",
       "      <td>69.3</td>\n",
       "      <td>9.3</td>\n",
       "    </tr>\n",
       "    <tr>\n",
       "      <th>3</th>\n",
       "      <td>4</td>\n",
       "      <td>151.5</td>\n",
       "      <td>41.3</td>\n",
       "      <td>58.5</td>\n",
       "      <td>18.5</td>\n",
       "    </tr>\n",
       "    <tr>\n",
       "      <th>4</th>\n",
       "      <td>5</td>\n",
       "      <td>180.8</td>\n",
       "      <td>10.8</td>\n",
       "      <td>58.4</td>\n",
       "      <td>12.9</td>\n",
       "    </tr>\n",
       "  </tbody>\n",
       "</table>\n",
       "</div>"
      ],
      "text/plain": [
       "   Unnamed: 0     TV  radio  newspaper  sales\n",
       "0           1  230.1   37.8       69.2   22.1\n",
       "1           2   44.5   39.3       45.1   10.4\n",
       "2           3   17.2   45.9       69.3    9.3\n",
       "3           4  151.5   41.3       58.5   18.5\n",
       "4           5  180.8   10.8       58.4   12.9"
      ]
     },
     "execution_count": 3,
     "metadata": {},
     "output_type": "execute_result"
    }
   ],
   "source": [
    "df = pd.read_csv(\"advertising.csv\")\n",
    "df.head()"
   ]
  },
  {
   "cell_type": "code",
   "execution_count": 4,
   "id": "69f08a7d",
   "metadata": {},
   "outputs": [],
   "source": [
    "X = df[['TV', 'radio', 'newspaper']]\n",
    "y = df['sales']"
   ]
  },
  {
   "cell_type": "markdown",
   "id": "6fee87a9",
   "metadata": {},
   "source": [
    "#### Standardization"
   ]
  },
  {
   "cell_type": "markdown",
   "id": "7b1c3f60",
   "metadata": {},
   "source": [
    "Standardized coefficients allow researchers to compare the relative magnitude of the effects of different explanatory variables in the path model by adjusting the standard deviations such that all the variables, despite different units of measurement, have equal standard deviations.    \n",
    "\n",
    "\n",
    "Standardizing the data in linear regression is important because it allows for fair comparison of the coefficients, avoids skewed influence of features with different scales, and helps in interpreting the relative importance of different features."
   ]
  },
  {
   "cell_type": "code",
   "execution_count": 5,
   "id": "d7f16743",
   "metadata": {},
   "outputs": [],
   "source": [
    "y = np.array((y - y.mean()) / y.std())\n",
    "X = X.apply(lambda row: (row - row.mean()) / row.std(), axis=0)"
   ]
  },
  {
   "cell_type": "markdown",
   "id": "f7ecfbcd",
   "metadata": {},
   "source": [
    "#### Method 1: Initialize the values of parameter"
   ]
  },
  {
   "cell_type": "code",
   "execution_count": 6,
   "id": "c7e492fe",
   "metadata": {},
   "outputs": [],
   "source": [
    "def initialize(dimension):\n",
    "    np.random.seed(42)\n",
    "    random.seed(42)\n",
    "    \n",
    "    # Beta 0\n",
    "    b = random.random()\n",
    "    \n",
    "    # required no of coefficients\n",
    "    w = np.random.rand(dimension)\n",
    "    \n",
    "    return b, w"
   ]
  },
  {
   "cell_type": "code",
   "execution_count": 7,
   "id": "697e47b5",
   "metadata": {},
   "outputs": [
    {
     "name": "stdout",
     "output_type": "stream",
     "text": [
      "Bias(intercept) is 0.6394267984578837\n",
      "Weights(coefficients) are [0.37454012 0.95071431 0.73199394]\n"
     ]
    }
   ],
   "source": [
    "b, w = initialize(3)\n",
    "\n",
    "print(\"Bias(intercept) is\", b)\n",
    "print(\"Weights(coefficients) are\", w)"
   ]
  },
  {
   "cell_type": "markdown",
   "id": "639deb91",
   "metadata": {},
   "source": [
    "#### Method 2: Calculate the value of y_pred"
   ]
  },
  {
   "cell_type": "code",
   "execution_count": 8,
   "id": "3144b186",
   "metadata": {},
   "outputs": [],
   "source": [
    "def predict(b, w, X):\n",
    "    \n",
    "    return b + np.matmul(X, w) # matrix multiplication"
   ]
  },
  {
   "cell_type": "code",
   "execution_count": 9,
   "id": "e4221c73",
   "metadata": {},
   "outputs": [
    {
     "data": {
      "text/plain": [
       "0      3.231496\n",
       "1      1.707849\n",
       "2      2.824761\n",
       "3      2.753090\n",
       "4      0.924486\n",
       "         ...   \n",
       "195   -1.651292\n",
       "196   -1.521730\n",
       "197   -0.935899\n",
       "198    3.633005\n",
       "199   -0.663044\n",
       "Length: 200, dtype: float64"
      ]
     },
     "execution_count": 9,
     "metadata": {},
     "output_type": "execute_result"
    }
   ],
   "source": [
    "b, w = initialize(3)\n",
    "y_hat = predict(b, w, X)\n",
    "\n",
    "y_hat"
   ]
  },
  {
   "cell_type": "markdown",
   "id": "225ab161",
   "metadata": {},
   "source": [
    "#### Method 3: Calculate the value of loss"
   ]
  },
  {
   "cell_type": "code",
   "execution_count": 10,
   "id": "aa1a0cfb",
   "metadata": {},
   "outputs": [],
   "source": [
    "def calculate_cost(y, y_hat):\n",
    "    residual = y - y_hat\n",
    "    \n",
    "    return np.sum(np.matmul(residual, residual.T)) / len(residual) # returns the value of MSE"
   ]
  },
  {
   "cell_type": "code",
   "execution_count": 11,
   "id": "d1bddd6a",
   "metadata": {},
   "outputs": [
    {
     "data": {
      "text/plain": [
       "1.53031001985059"
      ]
     },
     "execution_count": 11,
     "metadata": {},
     "output_type": "execute_result"
    }
   ],
   "source": [
    "b, w = initialize(3)\n",
    "y_hat = predict(b, w, X)\n",
    "\n",
    "calculate_cost(y, y_hat)"
   ]
  },
  {
   "cell_type": "markdown",
   "id": "35e207ea",
   "metadata": {},
   "source": [
    "#### Method 4: Updating the parameters"
   ]
  },
  {
   "cell_type": "code",
   "execution_count": 12,
   "id": "2c814bd8",
   "metadata": {},
   "outputs": [],
   "source": [
    "def update_beta(x, y, y_hat, b0, w0, lr): # lr is eta: learning rate\n",
    "    # gradients,\n",
    "    db = (np.sum( y_hat - y) * 2) / len(y)\n",
    "    dw = (np.dot( (y_hat - y), x) * 2) / len(y)\n",
    "    \n",
    "    b1 = b0 - lr*db\n",
    "    w1 = w0 - lr*dw\n",
    "    \n",
    "    return b1, w1"
   ]
  },
  {
   "cell_type": "code",
   "execution_count": 13,
   "id": "087595d4",
   "metadata": {},
   "outputs": [
    {
     "name": "stdout",
     "output_type": "stream",
     "text": [
      "Initialized Bias(intercept) is 0.6394267984578837\n",
      "Initialized Weights(coefficients) are [0.37454012 0.95071431 0.73199394]\n",
      "After updating, Bias(intercept) is 0.6266382624887261\n",
      "After updating, Weights(coefficients) are [0.38079093 0.9376953  0.71484883]\n"
     ]
    }
   ],
   "source": [
    "b, w = initialize(3)\n",
    "print(\"Initialized Bias(intercept) is\", b)\n",
    "print(\"Initialized Weights(coefficients) are\", w)\n",
    "\n",
    "y_hat = predict(b, w, X)\n",
    "\n",
    "b, w = update_beta(X, y, y_hat, b, w, 0.01)\n",
    "print(\"After updating, Bias(intercept) is\", b)\n",
    "print(\"After updating, Weights(coefficients) are\", w)"
   ]
  },
  {
   "cell_type": "code",
   "execution_count": 19,
   "id": "6ea5a929",
   "metadata": {},
   "outputs": [],
   "source": [
    "def run_gradient_descent(X, y, alpha=0.001, num_iter=400):\n",
    "    b, w = initialize(X.shape[1])\n",
    "    iter_num = 0\n",
    "    \n",
    "    gd_iterations_df = pd.DataFrame(columns=['iteration', 'loss'])\n",
    "    result_idx = 0\n",
    "    \n",
    "    for i in range(num_iter):\n",
    "        y_hat = predict(b, w, X)\n",
    "        iter_cost = calculate_cost(y, y_hat)\n",
    "        prev_b = b\n",
    "        prev_w = w\n",
    "        \n",
    "        b, w = update_beta(X, y, y_hat, prev_b, prev_w, alpha)\n",
    "        \n",
    "        if (i % 10 == 0):\n",
    "            gd_iterations_df.loc[result_idx] = [iter_num, iter_cost]\n",
    "            result_idx += 1\n",
    "            \n",
    "        iter_num += 1\n",
    "        \n",
    "    return gd_iterations_df, b, w"
   ]
  },
  {
   "cell_type": "code",
   "execution_count": 20,
   "id": "9127b165",
   "metadata": {},
   "outputs": [
    {
     "name": "stdout",
     "output_type": "stream",
     "text": [
      "Final estimate of bias(intercept) is 0.28708291582872\n",
      "Final estimate of weights(coefficients) are [0.5619044  0.64258719 0.29463454]\n"
     ]
    },
    {
     "data": {
      "text/html": [
       "<div>\n",
       "<style scoped>\n",
       "    .dataframe tbody tr th:only-of-type {\n",
       "        vertical-align: middle;\n",
       "    }\n",
       "\n",
       "    .dataframe tbody tr th {\n",
       "        vertical-align: top;\n",
       "    }\n",
       "\n",
       "    .dataframe thead th {\n",
       "        text-align: right;\n",
       "    }\n",
       "</style>\n",
       "<table border=\"1\" class=\"dataframe\">\n",
       "  <thead>\n",
       "    <tr style=\"text-align: right;\">\n",
       "      <th></th>\n",
       "      <th>iteration</th>\n",
       "      <th>loss</th>\n",
       "    </tr>\n",
       "  </thead>\n",
       "  <tbody>\n",
       "    <tr>\n",
       "      <th>0</th>\n",
       "      <td>0.0</td>\n",
       "      <td>1.530310</td>\n",
       "    </tr>\n",
       "    <tr>\n",
       "      <th>1</th>\n",
       "      <td>10.0</td>\n",
       "      <td>1.465201</td>\n",
       "    </tr>\n",
       "    <tr>\n",
       "      <th>2</th>\n",
       "      <td>20.0</td>\n",
       "      <td>1.403145</td>\n",
       "    </tr>\n",
       "    <tr>\n",
       "      <th>3</th>\n",
       "      <td>30.0</td>\n",
       "      <td>1.343996</td>\n",
       "    </tr>\n",
       "    <tr>\n",
       "      <th>4</th>\n",
       "      <td>40.0</td>\n",
       "      <td>1.287615</td>\n",
       "    </tr>\n",
       "    <tr>\n",
       "      <th>5</th>\n",
       "      <td>50.0</td>\n",
       "      <td>1.233868</td>\n",
       "    </tr>\n",
       "    <tr>\n",
       "      <th>6</th>\n",
       "      <td>60.0</td>\n",
       "      <td>1.182630</td>\n",
       "    </tr>\n",
       "    <tr>\n",
       "      <th>7</th>\n",
       "      <td>70.0</td>\n",
       "      <td>1.133780</td>\n",
       "    </tr>\n",
       "    <tr>\n",
       "      <th>8</th>\n",
       "      <td>80.0</td>\n",
       "      <td>1.087203</td>\n",
       "    </tr>\n",
       "    <tr>\n",
       "      <th>9</th>\n",
       "      <td>90.0</td>\n",
       "      <td>1.042793</td>\n",
       "    </tr>\n",
       "    <tr>\n",
       "      <th>10</th>\n",
       "      <td>100.0</td>\n",
       "      <td>1.000444</td>\n",
       "    </tr>\n",
       "    <tr>\n",
       "      <th>11</th>\n",
       "      <td>110.0</td>\n",
       "      <td>0.960059</td>\n",
       "    </tr>\n",
       "    <tr>\n",
       "      <th>12</th>\n",
       "      <td>120.0</td>\n",
       "      <td>0.921545</td>\n",
       "    </tr>\n",
       "    <tr>\n",
       "      <th>13</th>\n",
       "      <td>130.0</td>\n",
       "      <td>0.884812</td>\n",
       "    </tr>\n",
       "    <tr>\n",
       "      <th>14</th>\n",
       "      <td>140.0</td>\n",
       "      <td>0.849776</td>\n",
       "    </tr>\n",
       "    <tr>\n",
       "      <th>15</th>\n",
       "      <td>150.0</td>\n",
       "      <td>0.816356</td>\n",
       "    </tr>\n",
       "    <tr>\n",
       "      <th>16</th>\n",
       "      <td>160.0</td>\n",
       "      <td>0.784476</td>\n",
       "    </tr>\n",
       "    <tr>\n",
       "      <th>17</th>\n",
       "      <td>170.0</td>\n",
       "      <td>0.754063</td>\n",
       "    </tr>\n",
       "    <tr>\n",
       "      <th>18</th>\n",
       "      <td>180.0</td>\n",
       "      <td>0.725048</td>\n",
       "    </tr>\n",
       "    <tr>\n",
       "      <th>19</th>\n",
       "      <td>190.0</td>\n",
       "      <td>0.697364</td>\n",
       "    </tr>\n",
       "    <tr>\n",
       "      <th>20</th>\n",
       "      <td>200.0</td>\n",
       "      <td>0.670949</td>\n",
       "    </tr>\n",
       "    <tr>\n",
       "      <th>21</th>\n",
       "      <td>210.0</td>\n",
       "      <td>0.645743</td>\n",
       "    </tr>\n",
       "    <tr>\n",
       "      <th>22</th>\n",
       "      <td>220.0</td>\n",
       "      <td>0.621689</td>\n",
       "    </tr>\n",
       "    <tr>\n",
       "      <th>23</th>\n",
       "      <td>230.0</td>\n",
       "      <td>0.598733</td>\n",
       "    </tr>\n",
       "    <tr>\n",
       "      <th>24</th>\n",
       "      <td>240.0</td>\n",
       "      <td>0.576824</td>\n",
       "    </tr>\n",
       "    <tr>\n",
       "      <th>25</th>\n",
       "      <td>250.0</td>\n",
       "      <td>0.555912</td>\n",
       "    </tr>\n",
       "    <tr>\n",
       "      <th>26</th>\n",
       "      <td>260.0</td>\n",
       "      <td>0.535950</td>\n",
       "    </tr>\n",
       "    <tr>\n",
       "      <th>27</th>\n",
       "      <td>270.0</td>\n",
       "      <td>0.516895</td>\n",
       "    </tr>\n",
       "    <tr>\n",
       "      <th>28</th>\n",
       "      <td>280.0</td>\n",
       "      <td>0.498704</td>\n",
       "    </tr>\n",
       "    <tr>\n",
       "      <th>29</th>\n",
       "      <td>290.0</td>\n",
       "      <td>0.481337</td>\n",
       "    </tr>\n",
       "    <tr>\n",
       "      <th>30</th>\n",
       "      <td>300.0</td>\n",
       "      <td>0.464755</td>\n",
       "    </tr>\n",
       "    <tr>\n",
       "      <th>31</th>\n",
       "      <td>310.0</td>\n",
       "      <td>0.448922</td>\n",
       "    </tr>\n",
       "    <tr>\n",
       "      <th>32</th>\n",
       "      <td>320.0</td>\n",
       "      <td>0.433802</td>\n",
       "    </tr>\n",
       "    <tr>\n",
       "      <th>33</th>\n",
       "      <td>330.0</td>\n",
       "      <td>0.419364</td>\n",
       "    </tr>\n",
       "    <tr>\n",
       "      <th>34</th>\n",
       "      <td>340.0</td>\n",
       "      <td>0.405574</td>\n",
       "    </tr>\n",
       "    <tr>\n",
       "      <th>35</th>\n",
       "      <td>350.0</td>\n",
       "      <td>0.392404</td>\n",
       "    </tr>\n",
       "    <tr>\n",
       "      <th>36</th>\n",
       "      <td>360.0</td>\n",
       "      <td>0.379825</td>\n",
       "    </tr>\n",
       "    <tr>\n",
       "      <th>37</th>\n",
       "      <td>370.0</td>\n",
       "      <td>0.367808</td>\n",
       "    </tr>\n",
       "    <tr>\n",
       "      <th>38</th>\n",
       "      <td>380.0</td>\n",
       "      <td>0.356330</td>\n",
       "    </tr>\n",
       "    <tr>\n",
       "      <th>39</th>\n",
       "      <td>390.0</td>\n",
       "      <td>0.345363</td>\n",
       "    </tr>\n",
       "  </tbody>\n",
       "</table>\n",
       "</div>"
      ],
      "text/plain": [
       "    iteration      loss\n",
       "0         0.0  1.530310\n",
       "1        10.0  1.465201\n",
       "2        20.0  1.403145\n",
       "3        30.0  1.343996\n",
       "4        40.0  1.287615\n",
       "5        50.0  1.233868\n",
       "6        60.0  1.182630\n",
       "7        70.0  1.133780\n",
       "8        80.0  1.087203\n",
       "9        90.0  1.042793\n",
       "10      100.0  1.000444\n",
       "11      110.0  0.960059\n",
       "12      120.0  0.921545\n",
       "13      130.0  0.884812\n",
       "14      140.0  0.849776\n",
       "15      150.0  0.816356\n",
       "16      160.0  0.784476\n",
       "17      170.0  0.754063\n",
       "18      180.0  0.725048\n",
       "19      190.0  0.697364\n",
       "20      200.0  0.670949\n",
       "21      210.0  0.645743\n",
       "22      220.0  0.621689\n",
       "23      230.0  0.598733\n",
       "24      240.0  0.576824\n",
       "25      250.0  0.555912\n",
       "26      260.0  0.535950\n",
       "27      270.0  0.516895\n",
       "28      280.0  0.498704\n",
       "29      290.0  0.481337\n",
       "30      300.0  0.464755\n",
       "31      310.0  0.448922\n",
       "32      320.0  0.433802\n",
       "33      330.0  0.419364\n",
       "34      340.0  0.405574\n",
       "35      350.0  0.392404\n",
       "36      360.0  0.379825\n",
       "37      370.0  0.367808\n",
       "38      380.0  0.356330\n",
       "39      390.0  0.345363"
      ]
     },
     "execution_count": 20,
     "metadata": {},
     "output_type": "execute_result"
    }
   ],
   "source": [
    "gd_df, b, w = run_gradient_descent(X, y)\n",
    "\n",
    "print(\"Final estimate of bias(intercept) is\", b)\n",
    "print(\"Final estimate of weights(coefficients) are\", w)\n",
    "\n",
    "gd_df"
   ]
  },
  {
   "cell_type": "markdown",
   "id": "1bd5e6a1",
   "metadata": {},
   "source": [
    "Thus, the value of loss is reduced in each iterations."
   ]
  }
 ],
 "metadata": {
  "kernelspec": {
   "display_name": "Python 3 (ipykernel)",
   "language": "python",
   "name": "python3"
  },
  "language_info": {
   "codemirror_mode": {
    "name": "ipython",
    "version": 3
   },
   "file_extension": ".py",
   "mimetype": "text/x-python",
   "name": "python",
   "nbconvert_exporter": "python",
   "pygments_lexer": "ipython3",
   "version": "3.11.3"
  }
 },
 "nbformat": 4,
 "nbformat_minor": 5
}
