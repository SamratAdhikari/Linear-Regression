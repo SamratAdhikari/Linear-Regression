{
 "cells": [
  {
   "cell_type": "markdown",
   "id": "d7c47bc9",
   "metadata": {},
   "source": [
    "# <center>`Gradient Descent Exercise`</center>"
   ]
  },
  {
   "cell_type": "code",
   "execution_count": 17,
   "id": "b78ac779",
   "metadata": {},
   "outputs": [],
   "source": [
    "import numpy as np\n",
    "import pandas as pd\n",
    "import matplotlib.pyplot as plt\n",
    "import seaborn as sns\n",
    "import random\n",
    "import math\n",
    "\n",
    "import warnings\n",
    "warnings.filterwarnings(\"ignore\")"
   ]
  },
  {
   "cell_type": "code",
   "execution_count": 3,
   "id": "5fbad958",
   "metadata": {},
   "outputs": [
    {
     "data": {
      "text/html": [
       "<div>\n",
       "<style scoped>\n",
       "    .dataframe tbody tr th:only-of-type {\n",
       "        vertical-align: middle;\n",
       "    }\n",
       "\n",
       "    .dataframe tbody tr th {\n",
       "        vertical-align: top;\n",
       "    }\n",
       "\n",
       "    .dataframe thead th {\n",
       "        text-align: right;\n",
       "    }\n",
       "</style>\n",
       "<table border=\"1\" class=\"dataframe\">\n",
       "  <thead>\n",
       "    <tr style=\"text-align: right;\">\n",
       "      <th></th>\n",
       "      <th>Unnamed: 0</th>\n",
       "      <th>TV</th>\n",
       "      <th>radio</th>\n",
       "      <th>newspaper</th>\n",
       "      <th>sales</th>\n",
       "    </tr>\n",
       "  </thead>\n",
       "  <tbody>\n",
       "    <tr>\n",
       "      <th>0</th>\n",
       "      <td>1</td>\n",
       "      <td>230.1</td>\n",
       "      <td>37.8</td>\n",
       "      <td>69.2</td>\n",
       "      <td>22.1</td>\n",
       "    </tr>\n",
       "    <tr>\n",
       "      <th>1</th>\n",
       "      <td>2</td>\n",
       "      <td>44.5</td>\n",
       "      <td>39.3</td>\n",
       "      <td>45.1</td>\n",
       "      <td>10.4</td>\n",
       "    </tr>\n",
       "    <tr>\n",
       "      <th>2</th>\n",
       "      <td>3</td>\n",
       "      <td>17.2</td>\n",
       "      <td>45.9</td>\n",
       "      <td>69.3</td>\n",
       "      <td>9.3</td>\n",
       "    </tr>\n",
       "    <tr>\n",
       "      <th>3</th>\n",
       "      <td>4</td>\n",
       "      <td>151.5</td>\n",
       "      <td>41.3</td>\n",
       "      <td>58.5</td>\n",
       "      <td>18.5</td>\n",
       "    </tr>\n",
       "    <tr>\n",
       "      <th>4</th>\n",
       "      <td>5</td>\n",
       "      <td>180.8</td>\n",
       "      <td>10.8</td>\n",
       "      <td>58.4</td>\n",
       "      <td>12.9</td>\n",
       "    </tr>\n",
       "  </tbody>\n",
       "</table>\n",
       "</div>"
      ],
      "text/plain": [
       "   Unnamed: 0     TV  radio  newspaper  sales\n",
       "0           1  230.1   37.8       69.2   22.1\n",
       "1           2   44.5   39.3       45.1   10.4\n",
       "2           3   17.2   45.9       69.3    9.3\n",
       "3           4  151.5   41.3       58.5   18.5\n",
       "4           5  180.8   10.8       58.4   12.9"
      ]
     },
     "execution_count": 3,
     "metadata": {},
     "output_type": "execute_result"
    }
   ],
   "source": [
    "df = pd.read_csv(\"advertising.csv\")\n",
    "df.head()"
   ]
  },
  {
   "cell_type": "code",
   "execution_count": 4,
   "id": "69f08a7d",
   "metadata": {},
   "outputs": [],
   "source": [
    "X = df[['TV', 'radio', 'newspaper']]\n",
    "y = df['sales']"
   ]
  },
  {
   "cell_type": "markdown",
   "id": "6fee87a9",
   "metadata": {},
   "source": [
    "#### Standardization"
   ]
  },
  {
   "cell_type": "markdown",
   "id": "7b1c3f60",
   "metadata": {},
   "source": [
    "Standardized coefficients allow researchers to compare the relative magnitude of the effects of different explanatory variables in the path model by adjusting the standard deviations such that all the variables, despite different units of measurement, have equal standard deviations.    \n",
    "\n",
    "\n",
    "Standardizing the data in linear regression is important because it allows for fair comparison of the coefficients, avoids skewed influence of features with different scales, and helps in interpreting the relative importance of different features."
   ]
  },
  {
   "cell_type": "code",
   "execution_count": 5,
   "id": "d7f16743",
   "metadata": {},
   "outputs": [],
   "source": [
    "y = np.array((y - y.mean()) / y.std())\n",
    "X = X.apply(lambda row: (row - row.mean()) / row.std(), axis=0)"
   ]
  },
  {
   "cell_type": "markdown",
   "id": "f7ecfbcd",
   "metadata": {},
   "source": [
    "#### Method 1: Initialize the values of parameter"
   ]
  },
  {
   "cell_type": "code",
   "execution_count": 7,
   "id": "c7e492fe",
   "metadata": {},
   "outputs": [],
   "source": [
    "def initialize(dimension):\n",
    "    np.random.seed(42)\n",
    "    random.seed(42)\n",
    "    \n",
    "    # Beta 0\n",
    "    b = random.random()\n",
    "    \n",
    "    # required no of coefficients\n",
    "    w = np.random.rand(dimension)\n",
    "    \n",
    "    return b, w"
   ]
  },
  {
   "cell_type": "code",
   "execution_count": 11,
   "id": "697e47b5",
   "metadata": {},
   "outputs": [
    {
     "name": "stdout",
     "output_type": "stream",
     "text": [
      "Bias(intercept) is 0.6394267984578837\n",
      "Weights(coefficients) are [0.37454012 0.95071431 0.73199394]\n"
     ]
    }
   ],
   "source": [
    "b, w = initialize(3)\n",
    "\n",
    "print(\"Bias(intercept) is\", b)\n",
    "print(\"Weights(coefficients) are\", w)"
   ]
  },
  {
   "cell_type": "markdown",
   "id": "639deb91",
   "metadata": {},
   "source": [
    "#### Method 2: Calculate the value of y_pred"
   ]
  },
  {
   "cell_type": "code",
   "execution_count": 14,
   "id": "3144b186",
   "metadata": {},
   "outputs": [],
   "source": [
    "def predict(b, w, X):\n",
    "    \n",
    "    return b + np.matmul(X, w) # matrix multiplication"
   ]
  },
  {
   "cell_type": "code",
   "execution_count": 16,
   "id": "e4221c73",
   "metadata": {},
   "outputs": [
    {
     "data": {
      "text/plain": [
       "0      3.231496\n",
       "1      1.707849\n",
       "2      2.824761\n",
       "3      2.753090\n",
       "4      0.924486\n",
       "         ...   \n",
       "195   -1.651292\n",
       "196   -1.521730\n",
       "197   -0.935899\n",
       "198    3.633005\n",
       "199   -0.663044\n",
       "Length: 200, dtype: float64"
      ]
     },
     "execution_count": 16,
     "metadata": {},
     "output_type": "execute_result"
    }
   ],
   "source": [
    "b, w = initialize(3)\n",
    "y_hat = predict(b, w, X)\n",
    "\n",
    "y_hat"
   ]
  },
  {
   "cell_type": "markdown",
   "id": "225ab161",
   "metadata": {},
   "source": [
    "#### Method 3: Calculate the value of loss"
   ]
  },
  {
   "cell_type": "code",
   "execution_count": 18,
   "id": "aa1a0cfb",
   "metadata": {},
   "outputs": [],
   "source": [
    "def calculate_cost(y, y_hat):\n",
    "    residual = y - y_hat\n",
    "    \n",
    "    return np.sum(np.matmul(residual, residual.T)) / len(residual) # returns the value of MSE"
   ]
  },
  {
   "cell_type": "code",
   "execution_count": 20,
   "id": "d1bddd6a",
   "metadata": {},
   "outputs": [
    {
     "data": {
      "text/plain": [
       "1.53031001985059"
      ]
     },
     "execution_count": 20,
     "metadata": {},
     "output_type": "execute_result"
    }
   ],
   "source": [
    "b, w = initialize(3)\n",
    "y_hat = predict(b, w, X)\n",
    "\n",
    "calculate_cost(y, y_hat)"
   ]
  },
  {
   "cell_type": "markdown",
   "id": "35e207ea",
   "metadata": {},
   "source": [
    "#### Method 4: Updating the parameters"
   ]
  },
  {
   "cell_type": "code",
   "execution_count": 22,
   "id": "2c814bd8",
   "metadata": {},
   "outputs": [],
   "source": [
    "def update_beta(x, y, y_hat, b0, w0, lr): # lr is eta: learning rate\n",
    "    # gradients,\n",
    "    db = (np.sum( y_hat - y) * 2) / len(y)\n",
    "    dw = (np.dot( (y_hat - y), x) * 2) / len(y)\n",
    "    \n",
    "    b1 = b0 - lr*db\n",
    "    w1 = w0 - lr*dw\n",
    "    \n",
    "    return b1, w1"
   ]
  },
  {
   "cell_type": "code",
   "execution_count": 23,
   "id": "087595d4",
   "metadata": {},
   "outputs": [
    {
     "name": "stdout",
     "output_type": "stream",
     "text": [
      "Initialized Bias(intercept) is 0.6394267984578837\n",
      "Initialized Weights(coefficients) are [0.37454012 0.95071431 0.73199394]\n",
      "After updating, Bias(intercept) is 0.6266382624887261\n",
      "After updating, Weights(coefficients) are [0.38079093 0.9376953  0.71484883]\n"
     ]
    }
   ],
   "source": [
    "b, w = initialize(3)\n",
    "print(\"Initialized Bias(intercept) is\", b)\n",
    "print(\"Initialized Weights(coefficients) are\", w)\n",
    "\n",
    "y_hat = predict(b, w, X)\n",
    "\n",
    "b, w = update_beta(X, y, y_hat, b, w, 0.01)\n",
    "print(\"After updating, Bias(intercept) is\", b)\n",
    "print(\"After updating, Weights(coefficients) are\", w)"
   ]
  }
 ],
 "metadata": {
  "kernelspec": {
   "display_name": "Python 3 (ipykernel)",
   "language": "python",
   "name": "python3"
  },
  "language_info": {
   "codemirror_mode": {
    "name": "ipython",
    "version": 3
   },
   "file_extension": ".py",
   "mimetype": "text/x-python",
   "name": "python",
   "nbconvert_exporter": "python",
   "pygments_lexer": "ipython3",
   "version": "3.11.3"
  }
 },
 "nbformat": 4,
 "nbformat_minor": 5
}
