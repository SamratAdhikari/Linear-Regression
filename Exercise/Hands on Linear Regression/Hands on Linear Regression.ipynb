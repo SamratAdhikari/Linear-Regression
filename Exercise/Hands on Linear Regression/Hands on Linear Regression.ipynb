{
 "cells": [
  {
   "cell_type": "markdown",
   "id": "258ff835",
   "metadata": {},
   "source": [
    "# <center>`Hands on Linear Regression`</center>"
   ]
  },
  {
   "cell_type": "markdown",
   "id": "16ad393f",
   "metadata": {},
   "source": [
    "## Linear Regression using Mathematical Equations"
   ]
  },
  {
   "cell_type": "code",
   "execution_count": 1,
   "id": "ce20e594",
   "metadata": {},
   "outputs": [],
   "source": [
    "import numpy as np\n",
    "import pandas as pd\n",
    "import matplotlib.pyplot as plt\n",
    "import seaborn as sns\n",
    "\n",
    "%matplotlib inline"
   ]
  },
  {
   "cell_type": "code",
   "execution_count": 2,
   "id": "6d77a89e",
   "metadata": {},
   "outputs": [
    {
     "data": {
      "text/html": [
       "<div>\n",
       "<style scoped>\n",
       "    .dataframe tbody tr th:only-of-type {\n",
       "        vertical-align: middle;\n",
       "    }\n",
       "\n",
       "    .dataframe tbody tr th {\n",
       "        vertical-align: top;\n",
       "    }\n",
       "\n",
       "    .dataframe thead th {\n",
       "        text-align: right;\n",
       "    }\n",
       "</style>\n",
       "<table border=\"1\" class=\"dataframe\">\n",
       "  <thead>\n",
       "    <tr style=\"text-align: right;\">\n",
       "      <th></th>\n",
       "      <th>Gender</th>\n",
       "      <th>Age Range</th>\n",
       "      <th>Head Size(cm^3)</th>\n",
       "      <th>Brain Weight(grams)</th>\n",
       "    </tr>\n",
       "  </thead>\n",
       "  <tbody>\n",
       "    <tr>\n",
       "      <th>0</th>\n",
       "      <td>1</td>\n",
       "      <td>1</td>\n",
       "      <td>4512</td>\n",
       "      <td>1530</td>\n",
       "    </tr>\n",
       "    <tr>\n",
       "      <th>1</th>\n",
       "      <td>1</td>\n",
       "      <td>1</td>\n",
       "      <td>3738</td>\n",
       "      <td>1297</td>\n",
       "    </tr>\n",
       "    <tr>\n",
       "      <th>2</th>\n",
       "      <td>1</td>\n",
       "      <td>1</td>\n",
       "      <td>4261</td>\n",
       "      <td>1335</td>\n",
       "    </tr>\n",
       "    <tr>\n",
       "      <th>3</th>\n",
       "      <td>1</td>\n",
       "      <td>1</td>\n",
       "      <td>3777</td>\n",
       "      <td>1282</td>\n",
       "    </tr>\n",
       "    <tr>\n",
       "      <th>4</th>\n",
       "      <td>1</td>\n",
       "      <td>1</td>\n",
       "      <td>4177</td>\n",
       "      <td>1590</td>\n",
       "    </tr>\n",
       "  </tbody>\n",
       "</table>\n",
       "</div>"
      ],
      "text/plain": [
       "   Gender  Age Range  Head Size(cm^3)  Brain Weight(grams)\n",
       "0       1          1             4512                 1530\n",
       "1       1          1             3738                 1297\n",
       "2       1          1             4261                 1335\n",
       "3       1          1             3777                 1282\n",
       "4       1          1             4177                 1590"
      ]
     },
     "execution_count": 2,
     "metadata": {},
     "output_type": "execute_result"
    }
   ],
   "source": [
    "df = pd.read_csv(\"headbrain.csv\")\n",
    "df.head()"
   ]
  },
  {
   "cell_type": "code",
   "execution_count": 3,
   "id": "0e9b8097",
   "metadata": {},
   "outputs": [
    {
     "data": {
      "text/plain": [
       "(237, 4)"
      ]
     },
     "execution_count": 3,
     "metadata": {},
     "output_type": "execute_result"
    }
   ],
   "source": [
    "df.shape"
   ]
  },
  {
   "cell_type": "code",
   "execution_count": 17,
   "id": "5a8c9ec4",
   "metadata": {},
   "outputs": [],
   "source": [
    "X = df['Head Size(cm^3)'].values\n",
    "Y = df['Brain Weight(grams)'].values"
   ]
  },
  {
   "cell_type": "markdown",
   "id": "35e3dedf",
   "metadata": {},
   "source": [
    "#### Linear Model"
   ]
  },
  {
   "cell_type": "code",
   "execution_count": 5,
   "id": "94e0a84c",
   "metadata": {},
   "outputs": [
    {
     "name": "stdout",
     "output_type": "stream",
     "text": [
      "Slope (m): 0.26342933948939945\n",
      "Y-intercept (c) 325.57342104944223\n"
     ]
    }
   ],
   "source": [
    "# Mean X and Y\n",
    "\n",
    "mean_x = np.mean(X)\n",
    "mean_y = np.mean(Y)\n",
    "\n",
    "# total no of values\n",
    "n = len(df)\n",
    "\n",
    "# using formula to calculate the values of M and C\n",
    "# mean_y = m*mean_x + c\n",
    "\n",
    "num = 0\n",
    "denum = 0\n",
    "\n",
    "for i in range(n):\n",
    "    num += (X[i] - mean_x) * (Y[i] - mean_y)\n",
    "    denum +=  (X[i] - mean_x)**2\n",
    "    \n",
    "m = num / denum\n",
    "c = mean_y - (m * mean_x)\n",
    "\n",
    "# print coefficients\n",
    "print(\"Slope (m):\", m)\n",
    "print(\"Y-intercept (c)\", c)"
   ]
  },
  {
   "cell_type": "markdown",
   "id": "fb655018",
   "metadata": {},
   "source": [
    "#### Visualizing the model"
   ]
  },
  {
   "cell_type": "code",
   "execution_count": 11,
   "id": "693addff",
   "metadata": {},
   "outputs": [
    {
     "data": {
      "image/png": "[encoded data removed]",
      "text/plain": [
       "<Figure size 640x480 with 1 Axes>"
      ]
     },
     "metadata": {},
     "output_type": "display_data"
    }
   ],
   "source": [
    "max_x = np.max(X) + 100\n",
    "min_x = np.min(X) - 100\n",
    "\n",
    "# calculating line values x & y\n",
    "x = np.linspace(min_x, max_x, 1000)\n",
    "y = m*x + c\n",
    "\n",
    "# plotting line\n",
    "plt.plot(x, y, color=\"darkred\", label=\"Regression Line\")\n",
    "\n",
    "# plotting the actual data\n",
    "plt.scatter(X, Y, color=\"darkblue\", label=\"Scatter Plot\")\n",
    "\n",
    "plt.xlabel(\"Head Size in cm3\")\n",
    "plt.ylabel(\"Brain Weight in grams\")\n",
    "\n",
    "plt.legend()\n",
    "plt.show()"
   ]
  },
  {
   "cell_type": "markdown",
   "id": "5d5dedf6",
   "metadata": {},
   "source": [
    "#### How good is our model? - R<sup>2</sup> method"
   ]
  },
  {
   "cell_type": "code",
   "execution_count": 13,
   "id": "c8693786",
   "metadata": {},
   "outputs": [
    {
     "name": "stdout",
     "output_type": "stream",
     "text": [
      "The R-squared value is 0.6393117199570003\n"
     ]
    }
   ],
   "source": [
    "# total sum of square\n",
    "sTotal = 0\n",
    "\n",
    "# total sum of square of residuals\n",
    "sResidual = 0\n",
    "\n",
    "# total no of data (rows)\n",
    "n = len(df)\n",
    "\n",
    "for i in range(n):\n",
    "    y_pred = m*X[i] + c\n",
    "    \n",
    "    sTotal += (Y[i] - mean_y) ** 2\n",
    "    sResidual += (Y[i] - y_pred) ** 2\n",
    "\n",
    "r2 = 1 - (sResidual / sTotal)\n",
    "\n",
    "print(\"The R-squared value is\", r2)"
   ]
  },
  {
   "cell_type": "markdown",
   "id": "2dc35561",
   "metadata": {},
   "source": [
    "Since, R<sup>2</sup> value is 0.693, the actual data are somehow close to the regression line."
   ]
  },
  {
   "cell_type": "markdown",
   "id": "aa143e02",
   "metadata": {},
   "source": [
    "## Linear Regression using Sklearn library"
   ]
  },
  {
   "cell_type": "code",
   "execution_count": 14,
   "id": "d239d6cb",
   "metadata": {},
   "outputs": [],
   "source": [
    "from sklearn.linear_model import LinearRegression\n",
    "from sklearn.metrics import mean_squared_error as mse"
   ]
  },
  {
   "cell_type": "code",
   "execution_count": 21,
   "id": "f77350cc",
   "metadata": {},
   "outputs": [],
   "source": [
    "# cannot use Rank 1 matrix in scikit learn\n",
    "X = X.reshape((n, 1))\n",
    "\n",
    "# creating model\n",
    "reg = LinearRegression()\n",
    "\n",
    "# fitting training data\n",
    "reg = reg.fit(X, Y)\n",
    "\n",
    "# Y-prediction values\n",
    "Y_pred = reg.predict(X)"
   ]
  },
  {
   "cell_type": "code",
   "execution_count": 22,
   "id": "3d9479ce",
   "metadata": {},
   "outputs": [
    {
     "name": "stdout",
     "output_type": "stream",
     "text": [
      "Mean Squared Error is 5201.3840280023305\n",
      "Root Mean Squared Error is 72.1206213783709\n",
      "R2 score is 0.639311719957\n"
     ]
    }
   ],
   "source": [
    "# Calculating Root Mean Squared Error & R2 score\n",
    "MSE = mse(Y, Y_pred)\n",
    "RMSE = np.sqrt(MSE)\n",
    "\n",
    "r2_score = reg.score(X, Y)\n",
    "\n",
    "print(\"Mean Squared Error is\", MSE)\n",
    "print(\"Root Mean Squared Error is\", RMSE)\n",
    "print(\"R2 score is\", r2_score)"
   ]
  },
  {
   "cell_type": "markdown",
   "id": "bf52bcec",
   "metadata": {},
   "source": [
    "Since, R<sup>2</sup> value is 0.693, the actual data are somehow close to the regression line."
   ]
  }
 ],
 "metadata": {
  "kernelspec": {
   "display_name": "Python 3 (ipykernel)",
   "language": "python",
   "name": "python3"
  },
  "language_info": {
   "codemirror_mode": {
    "name": "ipython",
    "version": 3
   },
   "file_extension": ".py",
   "mimetype": "text/x-python",
   "name": "python",
   "nbconvert_exporter": "python",
   "pygments_lexer": "ipython3",
   "version": "3.11.3"
  }
 },
 "nbformat": 4,
 "nbformat_minor": 5
}
