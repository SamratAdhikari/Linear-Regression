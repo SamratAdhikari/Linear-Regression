{
 "cells": [
  {
   "cell_type": "markdown",
   "id": "a32e7b57",
   "metadata": {},
   "source": [
    "# <center>LINEAR REGRESSION</center> "
   ]
  },
  {
   "cell_type": "markdown",
   "id": "ab2c7f3f",
   "metadata": {},
   "source": [
    "## `Introduction to Regression`"
   ]
  },
  {
   "cell_type": "markdown",
   "id": "3fdedeed",
   "metadata": {},
   "source": [
    "- Regression is a technique which predicts the value of variable 'y' based on the values of variable 'x'.\n",
    "- Example: Determining the price of the house based on various factors like no of rooms, dimension, area, etc.\n",
    "\n",
    "<hr>\n",
    "\n",
    "<b>Types of Regression:</b>\n",
    "- Linear Regression:\n",
    "    - Predict the continuous variables\n",
    "    - Straight line equation\n",
    "    - Used for regression task.\n",
    "    \n",
    "- Logistic Regression:\n",
    "    - Predict the categorical variables\n",
    "    - S-shaped curve\n",
    "    - Used for classification task"
   ]
  },
  {
   "cell_type": "markdown",
   "id": "1c683da8",
   "metadata": {},
   "source": [
    " "
   ]
  },
  {
   "cell_type": "markdown",
   "id": "38a6a202",
   "metadata": {},
   "source": [
    "## `Linear Regression`"
   ]
  },
  {
   "cell_type": "markdown",
   "id": "05f15f2e",
   "metadata": {},
   "source": [
    "- Linear regression is a supervised algorithm.\n",
    "- Assumes the linear relationship between Independent and Dependent variables.\n",
    "\n",
    "<hr>\n",
    "\n",
    "<b>Dependent Variables</b>:\n",
    "- Variables that we are trying to understand or forecast. (y)\n",
    "\n",
    "<b>Independent Variables:</b>\n",
    "- These are factors that influence the analysis of target & provide us with information regarding the relationship of the variables with the target variable. (x)\n",
    "\n",
    "<hr>\n",
    "\n",
    "<b>Usage of Linear Regression:</b>\n",
    "- Financial Industry:\n",
    "    - Understand the trend in the stock prices, forecast the prices, and evaluate risks in the insurance domain.\n",
    "- Marketing:\n",
    "    - Understand the effectiveness of market campaign and forecast pricing and sales of the product.\n",
    "- Manufacturing:\n",
    "    - Evaluate the relationship of variables that determine a better engine to provide better performance.\n",
    "- Medicine:\n",
    "    - Forecast the different combinations of medicines to prepare generic medicines for diseases.\n",
    "    \n",
    "<hr>\n",
    "\n",
    "<b>Types of Linear Regression:</b>\n",
    "- Simple Linear Regression:  \n",
    "  Y<sub>i</sub> = β<sub>0</sub> + β<sub>1</sub>X<sub>i</sub>  \n",
    "  Used when we have a single feature(x) and we are trying to establish its relationship with the outcome (y).  \n",
    "  i.e. x ↔ y\n",
    "  \n",
    "  <br>\n",
    "  \n",
    "- Multiple Linear Regression:  \n",
    "  Y = β<sub>0</sub> + β<sub>1</sub>X<sub>1</sub> + β<sub>2</sub>X<sub>2</sub> + ... + β<sub>i</sub>X<sub>i</sub>  \n",
    "  Used when we have multiple features (x<sub>1</sub>, x<sub>2</sub>, x<sub>3</sub>, ...) and we are trying to establish their relationship with the outcome (y).  \n",
    "  i.e. (x<sub>1</sub>, x<sub>2</sub>, x<sub>3</sub>, ...) ↔ y\n",
    "  \n",
    "  \n",
    "<hr>\n",
    "\n",
    "<b>Goal of Linear Regression:</b>  \n",
    "Not all data points are going to pass through the straight line, so the goal of linear regression is find the minimum error.  \n",
    "So that the all the data points are as close as possible to the regression line.\n",
    "\n",
    "<img src='assets/Linear Regression.png' width=500>"
   ]
  },
  {
   "cell_type": "markdown",
   "id": "4c4b7b31",
   "metadata": {},
   "source": [
    " "
   ]
  },
  {
   "cell_type": "markdown",
   "id": "d4f1ed92",
   "metadata": {},
   "source": [
    "## `Assumptions of Linear Regression`"
   ]
  },
  {
   "cell_type": "markdown",
   "id": "cc94b9fc",
   "metadata": {},
   "source": [
    "<b>Lineariy:</b>\n",
    "- There exists a linear relationship between dependent and independent variables.\n",
    "\n",
    "<b>Multicollinearity:</b>\n",
    "- There should not be high correlation between two or more independent variables.\n",
    "- This can be checked with correlation matrix and Variance Influencing Factor (VIF).\n",
    "\n",
    "<b>Homoscedasticity:</b>\n",
    "- If variance of errors are constant across independent variables, then we say - Homoscedasticity is present.\n",
    "- Q-Q plot can be used to check Homoscedasticity.\n",
    "\n",
    "<b>Multivariate Normality:</b>\n",
    "- Residuals are normally distributed.\n",
    "\n",
    "<b>Categorical Data:</b>\n",
    "- All the categorical data are converted to One Hot Encoding representation.\n",
    "\n",
    "<b>Minimum Records:</b>\n",
    "- Atleast 20 records of independent variables."
   ]
  },
  {
   "cell_type": "markdown",
   "id": "a1263288",
   "metadata": {},
   "source": [
    " "
   ]
  },
  {
   "cell_type": "markdown",
   "id": "8e2b663c",
   "metadata": {},
   "source": [
    "## `Intuition of Linear Regression` "
   ]
  },
  {
   "cell_type": "markdown",
   "id": "2b38f256",
   "metadata": {},
   "source": [
    "- The intuition of linear regression is to find the possible minimum error from the regression line.\n",
    "\n",
    "<b>Linear Regression using Normal Equation:</b>  \n",
    "    Normal Equation Representation --   \n",
    "    θ = (X<sup>T</sup> X)<sup>-1</sup> X<sup>T</sup> y  \n",
    "    where,  \n",
    "    θ is the values of the parameter and can be suplimented as β in the above mentioned Regression Formulae.   \n",
    "    X is a matrix nxm that contains values x<sub>1</sub>, x<sub>2</sub>, x<sub>3</sub>, ...  \n",
    "    X<sup>T</sup> is the transpose of matrix X  \n",
    "    <sup>-1</sup> represents the inverse of the matrix  \n",
    "    y denotes the target\n",
    "    \n",
    "θ is the resultant matrix that contains values θ<sub>0</sub>, θ<sub>1</sub>, θ<sub>2</sub>, θ<sub>3</sub>, ...  \n",
    "here,  \n",
    "θ<sub>0</sub> is called the intercept.  \n",
    "θ<sub>1</sub>, θ<sub>2</sub>, θ<sub>3</sub>, ... are called the coefficients.  \n",
    "\n",
    "After getting the values of intercept and coefficients from the normal equation, we can substitute them in Multiple Linear Regression to get the value of Minimum Error."
   ]
  },
  {
   "cell_type": "markdown",
   "id": "224fc5b8",
   "metadata": {},
   "source": [
    " "
   ]
  },
  {
   "cell_type": "markdown",
   "id": "8ba9db2e",
   "metadata": {},
   "source": [
    "## `Assumptions of Linear Regression` "
   ]
  },
  {
   "cell_type": "markdown",
   "id": "128d4e00",
   "metadata": {},
   "source": [
    "- Linear & additive relationship:  \n",
    "Assumption that there is a linear additive between feature(X) and target(y).  \n",
    "Linear relationship suggests that a change in response target(y) due to one of the unit change in feature(X) is constant, regardless of the value X.    \n",
    "    i.e. the impact of x<sub>1</sub> on y is independent of the impact of x<sub>2</sub> on y.\n",
    "\n",
    "<br>\n",
    "\n",
    "- Auto-correlation:  \n",
    "There shouldnot be any correlation between the residual terms.    \n",
    "\n",
    "<br>\n",
    "\n",
    "- Homoscedasticity:  \n",
    "The error terms must have constant variance.\n",
    "\n",
    "<br>\n",
    "\n",
    "- Multi-collinearity:  \n",
    "The independent varibles shouldnot be correlated to each other.\n",
    "\n",
    "<br>    \n",
    "\n",
    "- Normality in errors:  \n",
    "The error terms must be normally distributed."
   ]
  },
  {
   "cell_type": "markdown",
   "id": "3998ff16",
   "metadata": {},
   "source": [
    " "
   ]
  },
  {
   "cell_type": "markdown",
   "id": "3f58fbb8",
   "metadata": {},
   "source": [
    "## `Check the effectiveness of the Fit`"
   ]
  },
  {
   "cell_type": "markdown",
   "id": "6033b199",
   "metadata": {},
   "source": [
    "<b>R<sup>2</sup> or R-squared:</b>\n",
    "- A statistical measure of how close the data is to the fitted regression line.\n",
    "- Also known as the coefficient of determination, or the coefficient of multiple determination.\n",
    "- Gives the percentage of the variation of dependent variable predicted from its independent variable.\n",
    "\n",
    "<hr>\n",
    "\n",
    "<b>Interpret the value of R-squared:</b>\n",
    "- R-squared values range from 0 to 1 and are commonly stated as percentages from 0% to 100%.\n",
    "- R-squared value of 100% means that all movements of dependent variable are completely explained by movements in the independent variable(s).\n"
   ]
  },
  {
   "cell_type": "markdown",
   "id": "10ec9c13",
   "metadata": {},
   "source": [
    " "
   ]
  },
  {
   "cell_type": "markdown",
   "id": "d55e8f82",
   "metadata": {},
   "source": [
    "## `Introduction to Gradient Descent`"
   ]
  },
  {
   "cell_type": "markdown",
   "id": "429700f8",
   "metadata": {},
   "source": [
    "<b>Gradient Descent:</b>\n",
    "- Gradient Descent is an optimization algorithm used for training a machine learning model.\n",
    "- It is based on a convex function and tweaks its parameters iteratively to minimize a given function to its local minimum.\n",
    "- Core idea:\n",
    "    - Define the initial parameter values.\n",
    "    - Use calculus to iteratively adjust the values for minimizing the cost function (loss function).\n",
    "\n",
    "<hr>\n",
    " \n",
    "<b>Gradient:</b>\n",
    "- A measure of how much a function changes if we change the inputs a little.\n",
    "- Measures how small change in weights can result in change in Error function."
   ]
  }
 ],
 "metadata": {
  "kernelspec": {
   "display_name": "Python 3 (ipykernel)",
   "language": "python",
   "name": "python3"
  },
  "language_info": {
   "codemirror_mode": {
    "name": "ipython",
    "version": 3
   },
   "file_extension": ".py",
   "mimetype": "text/x-python",
   "name": "python",
   "nbconvert_exporter": "python",
   "pygments_lexer": "ipython3",
   "version": "3.11.3"
  }
 },
 "nbformat": 4,
 "nbformat_minor": 5
}
